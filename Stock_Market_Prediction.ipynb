{
  "nbformat": 4,
  "nbformat_minor": 0,
  "metadata": {
    "colab": {
      "name": "Stock Market Prediction.ipynb",
      "provenance": [],
      "authorship_tag": "ABX9TyPk9wLh6KKF2HPTiDtwXwT8",
      "include_colab_link": true
    },
    "kernelspec": {
      "name": "python3",
      "display_name": "Python 3"
    },
    "language_info": {
      "name": "python"
    }
  },
  "cells": [
    {
      "cell_type": "markdown",
      "metadata": {
        "id": "view-in-github",
        "colab_type": "text"
      },
      "source": [
        "<a href=\"https://colab.research.google.com/github/alperkara20/Stock-Market-Prediction/blob/main/Stock_Market_Prediction.ipynb\" target=\"_parent\"><img src=\"https://colab.research.google.com/assets/colab-badge.svg\" alt=\"Open In Colab\"/></a>"
      ]
    },
    {
      "cell_type": "code",
      "metadata": {
        "id": "-dxI9PqRcPxJ"
      },
      "source": [
        "import math\n",
        "import pandas_datareader as web\n",
        "import numpy as np\n",
        "import pandas as pd\n",
        "from sklearn.preprocessing import MinMaxScaler\n",
        "from keras.models import Sequential\n",
        "from keras.layers import Dense, LSTM\n",
        "import matplotlib.pyplot as plt\n",
        "plt.style.use('fivethirtyeight')"
      ],
      "execution_count": null,
      "outputs": []
    },
    {
      "cell_type": "code",
      "metadata": {
        "colab": {
          "base_uri": "https://localhost:8080/"
        },
        "id": "mrKQTV3dc9Ko",
        "outputId": "d061bb3e-049d-4c8c-da59-11e0fe68c700"
      },
      "source": [
        "!pip install --upgrade pandas\n",
        "!pip install --upgrade pandas-datareader"
      ],
      "execution_count": null,
      "outputs": [
        {
          "output_type": "stream",
          "name": "stdout",
          "text": [
            "Requirement already satisfied: pandas in /usr/local/lib/python3.7/dist-packages (1.3.4)\n",
            "Requirement already satisfied: python-dateutil>=2.7.3 in /usr/local/lib/python3.7/dist-packages (from pandas) (2.8.2)\n",
            "Requirement already satisfied: numpy>=1.17.3 in /usr/local/lib/python3.7/dist-packages (from pandas) (1.19.5)\n",
            "Requirement already satisfied: pytz>=2017.3 in /usr/local/lib/python3.7/dist-packages (from pandas) (2018.9)\n",
            "Requirement already satisfied: six>=1.5 in /usr/local/lib/python3.7/dist-packages (from python-dateutil>=2.7.3->pandas) (1.15.0)\n",
            "Requirement already satisfied: pandas-datareader in /usr/local/lib/python3.7/dist-packages (0.10.0)\n",
            "Requirement already satisfied: pandas>=0.23 in /usr/local/lib/python3.7/dist-packages (from pandas-datareader) (1.3.4)\n",
            "Requirement already satisfied: requests>=2.19.0 in /usr/local/lib/python3.7/dist-packages (from pandas-datareader) (2.23.0)\n",
            "Requirement already satisfied: lxml in /usr/local/lib/python3.7/dist-packages (from pandas-datareader) (4.2.6)\n",
            "Requirement already satisfied: python-dateutil>=2.7.3 in /usr/local/lib/python3.7/dist-packages (from pandas>=0.23->pandas-datareader) (2.8.2)\n",
            "Requirement already satisfied: numpy>=1.17.3 in /usr/local/lib/python3.7/dist-packages (from pandas>=0.23->pandas-datareader) (1.19.5)\n",
            "Requirement already satisfied: pytz>=2017.3 in /usr/local/lib/python3.7/dist-packages (from pandas>=0.23->pandas-datareader) (2018.9)\n",
            "Requirement already satisfied: six>=1.5 in /usr/local/lib/python3.7/dist-packages (from python-dateutil>=2.7.3->pandas>=0.23->pandas-datareader) (1.15.0)\n",
            "Requirement already satisfied: chardet<4,>=3.0.2 in /usr/local/lib/python3.7/dist-packages (from requests>=2.19.0->pandas-datareader) (3.0.4)\n",
            "Requirement already satisfied: certifi>=2017.4.17 in /usr/local/lib/python3.7/dist-packages (from requests>=2.19.0->pandas-datareader) (2021.5.30)\n",
            "Requirement already satisfied: urllib3!=1.25.0,!=1.25.1,<1.26,>=1.21.1 in /usr/local/lib/python3.7/dist-packages (from requests>=2.19.0->pandas-datareader) (1.24.3)\n",
            "Requirement already satisfied: idna<3,>=2.5 in /usr/local/lib/python3.7/dist-packages (from requests>=2.19.0->pandas-datareader) (2.10)\n"
          ]
        }
      ]
    },
    {
      "cell_type": "code",
      "metadata": {
        "colab": {
          "base_uri": "https://localhost:8080/",
          "height": 449
        },
        "id": "xtciBITycVA9",
        "outputId": "a4c4a1a6-450d-4362-dfb6-3a05bfbfe1d8"
      },
      "source": [
        "#Get the yahoo stock data\n",
        "df = web.DataReader('AAPL', data_source='yahoo', start='1980-12-08', end='2021-10-1')\n",
        "df"
      ],
      "execution_count": null,
      "outputs": [
        {
          "output_type": "execute_result",
          "data": {
            "text/html": [
              "<div>\n",
              "<style scoped>\n",
              "    .dataframe tbody tr th:only-of-type {\n",
              "        vertical-align: middle;\n",
              "    }\n",
              "\n",
              "    .dataframe tbody tr th {\n",
              "        vertical-align: top;\n",
              "    }\n",
              "\n",
              "    .dataframe thead th {\n",
              "        text-align: right;\n",
              "    }\n",
              "</style>\n",
              "<table border=\"1\" class=\"dataframe\">\n",
              "  <thead>\n",
              "    <tr style=\"text-align: right;\">\n",
              "      <th></th>\n",
              "      <th>High</th>\n",
              "      <th>Low</th>\n",
              "      <th>Open</th>\n",
              "      <th>Close</th>\n",
              "      <th>Volume</th>\n",
              "      <th>Adj Close</th>\n",
              "    </tr>\n",
              "    <tr>\n",
              "      <th>Date</th>\n",
              "      <th></th>\n",
              "      <th></th>\n",
              "      <th></th>\n",
              "      <th></th>\n",
              "      <th></th>\n",
              "      <th></th>\n",
              "    </tr>\n",
              "  </thead>\n",
              "  <tbody>\n",
              "    <tr>\n",
              "      <th>1980-12-12</th>\n",
              "      <td>0.128906</td>\n",
              "      <td>0.128348</td>\n",
              "      <td>0.128348</td>\n",
              "      <td>0.128348</td>\n",
              "      <td>469033600.0</td>\n",
              "      <td>0.100600</td>\n",
              "    </tr>\n",
              "    <tr>\n",
              "      <th>1980-12-15</th>\n",
              "      <td>0.122210</td>\n",
              "      <td>0.121652</td>\n",
              "      <td>0.122210</td>\n",
              "      <td>0.121652</td>\n",
              "      <td>175884800.0</td>\n",
              "      <td>0.095352</td>\n",
              "    </tr>\n",
              "    <tr>\n",
              "      <th>1980-12-16</th>\n",
              "      <td>0.113281</td>\n",
              "      <td>0.112723</td>\n",
              "      <td>0.113281</td>\n",
              "      <td>0.112723</td>\n",
              "      <td>105728000.0</td>\n",
              "      <td>0.088353</td>\n",
              "    </tr>\n",
              "    <tr>\n",
              "      <th>1980-12-17</th>\n",
              "      <td>0.116071</td>\n",
              "      <td>0.115513</td>\n",
              "      <td>0.115513</td>\n",
              "      <td>0.115513</td>\n",
              "      <td>86441600.0</td>\n",
              "      <td>0.090540</td>\n",
              "    </tr>\n",
              "    <tr>\n",
              "      <th>1980-12-18</th>\n",
              "      <td>0.119420</td>\n",
              "      <td>0.118862</td>\n",
              "      <td>0.118862</td>\n",
              "      <td>0.118862</td>\n",
              "      <td>73449600.0</td>\n",
              "      <td>0.093165</td>\n",
              "    </tr>\n",
              "    <tr>\n",
              "      <th>...</th>\n",
              "      <td>...</td>\n",
              "      <td>...</td>\n",
              "      <td>...</td>\n",
              "      <td>...</td>\n",
              "      <td>...</td>\n",
              "      <td>...</td>\n",
              "    </tr>\n",
              "    <tr>\n",
              "      <th>2021-09-27</th>\n",
              "      <td>145.960007</td>\n",
              "      <td>143.820007</td>\n",
              "      <td>145.470001</td>\n",
              "      <td>145.369995</td>\n",
              "      <td>74150700.0</td>\n",
              "      <td>145.369995</td>\n",
              "    </tr>\n",
              "    <tr>\n",
              "      <th>2021-09-28</th>\n",
              "      <td>144.750000</td>\n",
              "      <td>141.690002</td>\n",
              "      <td>143.250000</td>\n",
              "      <td>141.910004</td>\n",
              "      <td>108972300.0</td>\n",
              "      <td>141.910004</td>\n",
              "    </tr>\n",
              "    <tr>\n",
              "      <th>2021-09-29</th>\n",
              "      <td>144.449997</td>\n",
              "      <td>142.029999</td>\n",
              "      <td>142.470001</td>\n",
              "      <td>142.830002</td>\n",
              "      <td>74602000.0</td>\n",
              "      <td>142.830002</td>\n",
              "    </tr>\n",
              "    <tr>\n",
              "      <th>2021-09-30</th>\n",
              "      <td>144.380005</td>\n",
              "      <td>141.279999</td>\n",
              "      <td>143.660004</td>\n",
              "      <td>141.500000</td>\n",
              "      <td>88934200.0</td>\n",
              "      <td>141.500000</td>\n",
              "    </tr>\n",
              "    <tr>\n",
              "      <th>2021-10-01</th>\n",
              "      <td>142.919998</td>\n",
              "      <td>139.110001</td>\n",
              "      <td>141.899994</td>\n",
              "      <td>142.649994</td>\n",
              "      <td>94639600.0</td>\n",
              "      <td>142.649994</td>\n",
              "    </tr>\n",
              "  </tbody>\n",
              "</table>\n",
              "<p>10289 rows × 6 columns</p>\n",
              "</div>"
            ],
            "text/plain": [
              "                  High         Low  ...       Volume   Adj Close\n",
              "Date                                ...                         \n",
              "1980-12-12    0.128906    0.128348  ...  469033600.0    0.100600\n",
              "1980-12-15    0.122210    0.121652  ...  175884800.0    0.095352\n",
              "1980-12-16    0.113281    0.112723  ...  105728000.0    0.088353\n",
              "1980-12-17    0.116071    0.115513  ...   86441600.0    0.090540\n",
              "1980-12-18    0.119420    0.118862  ...   73449600.0    0.093165\n",
              "...                ...         ...  ...          ...         ...\n",
              "2021-09-27  145.960007  143.820007  ...   74150700.0  145.369995\n",
              "2021-09-28  144.750000  141.690002  ...  108972300.0  141.910004\n",
              "2021-09-29  144.449997  142.029999  ...   74602000.0  142.830002\n",
              "2021-09-30  144.380005  141.279999  ...   88934200.0  141.500000\n",
              "2021-10-01  142.919998  139.110001  ...   94639600.0  142.649994\n",
              "\n",
              "[10289 rows x 6 columns]"
            ]
          },
          "metadata": {},
          "execution_count": 23
        }
      ]
    },
    {
      "cell_type": "code",
      "metadata": {
        "colab": {
          "base_uri": "https://localhost:8080/"
        },
        "id": "I3koqehmdWGH",
        "outputId": "b15244d0-ec7d-4575-f333-89b272949fe1"
      },
      "source": [
        "\n",
        "#Get the number of rows and columns in the data set\n",
        "df.shape"
      ],
      "execution_count": null,
      "outputs": [
        {
          "output_type": "execute_result",
          "data": {
            "text/plain": [
              "(10289, 6)"
            ]
          },
          "metadata": {},
          "execution_count": 24
        }
      ]
    },
    {
      "cell_type": "code",
      "metadata": {
        "colab": {
          "base_uri": "https://localhost:8080/",
          "height": 478
        },
        "id": "Kz90BB52dZX3",
        "outputId": "81713c20-9a16-412c-d9e5-3b6dfb8ac6b1"
      },
      "source": [
        "#Visualize the closing price history\n",
        "plt.figure(figsize=(16,8))\n",
        "plt.title('Close Price History')\n",
        "plt.plot(df['Close'])\n",
        "plt.xlabel('Date', fontsize=18)\n",
        "plt.ylabel('Close Price USD ($)', fontsize=18)\n",
        "plt.show()"
      ],
      "execution_count": null,
      "outputs": [
        {
          "output_type": "display_data",
          "data": {
            "image/png": "[encoded data removed]",
            "text/plain": [
              "<Figure size 1152x576 with 1 Axes>"
            ]
          },
          "metadata": {
            "needs_background": "light"
          }
        }
      ]
    },
    {
      "cell_type": "code",
      "metadata": {
        "colab": {
          "base_uri": "https://localhost:8080/"
        },
        "id": "B4rFxfWydfHX",
        "outputId": "ce5c28b4-8c5c-4b6e-cba4-9d3c7924c88a"
      },
      "source": [
        "#Create a new dataframe with only the 'Close column\n",
        "data = df.filter(['Close'])\n",
        "#Convert the dataframe to a numpy array\n",
        "dataset = data.values\n",
        "#Get the number of rows to train the model on\n",
        "training_data_len = math.ceil( len(dataset) * .8 )\n",
        "\n",
        "training_data_len"
      ],
      "execution_count": null,
      "outputs": [
        {
          "output_type": "execute_result",
          "data": {
            "text/plain": [
              "8232"
            ]
          },
          "metadata": {},
          "execution_count": 26
        }
      ]
    },
    {
      "cell_type": "code",
      "metadata": {
        "colab": {
          "base_uri": "https://localhost:8080/"
        },
        "id": "1oDvzLVpdkoH",
        "outputId": "7fa28333-0bed-493c-e417-46f193080049"
      },
      "source": [
        "#Scale the data\n",
        "#we scale the data and use minmax scaler as minmax scaler is sensitive to outliers\n",
        "\n",
        "scaler = MinMaxScaler(feature_range=(0,1))\n",
        "scaled_data = scaler.fit_transform(dataset)\n",
        "\n",
        "scaled_data"
      ],
      "execution_count": null,
      "outputs": [
        {
          "output_type": "execute_result",
          "data": {
            "text/plain": [
              "array([[5.05876786e-04],\n",
              "       [4.63129371e-04],\n",
              "       [4.06126382e-04],\n",
              "       ...,\n",
              "       [9.11517356e-01],\n",
              "       [9.03026586e-01],\n",
              "       [9.10368180e-01]])"
            ]
          },
          "metadata": {},
          "execution_count": 27
        }
      ]
    },
    {
      "cell_type": "code",
      "metadata": {
        "colab": {
          "base_uri": "https://localhost:8080/"
        },
        "id": "NOt9FL9OdqYR",
        "outputId": "464acf56-a113-49f0-f792-8215e7d482d3"
      },
      "source": [
        "#Create the training data set\n",
        "#Create the scaled training data set\n",
        "train_data = scaled_data[0:training_data_len , :]\n",
        "#Split the data into x_train and y_train data sets\n",
        "x_train = []\n",
        "y_train = []\n",
        "\n",
        "for i in range(60, len(train_data)):\n",
        "  x_train.append(train_data[i-60:i, 0])\n",
        "  y_train.append(train_data[i, 0])\n",
        "  if i<= 61:\n",
        "    print(x_train)\n",
        "    print(y_train)\n",
        "    print()"
      ],
      "execution_count": null,
      "outputs": [
        {
          "output_type": "stream",
          "name": "stdout",
          "text": [
            "[array([0.00050588, 0.00046313, 0.00040613, 0.00042394, 0.00044532,\n",
            "       0.00049163, 0.00053081, 0.00056644, 0.00061275, 0.00069825,\n",
            "       0.0007125 , 0.00068757, 0.00065907, 0.00066975, 0.00064838,\n",
            "       0.00060563, 0.00056644, 0.00054863, 0.00059494, 0.00058782,\n",
            "       0.00055576, 0.00055932, 0.00057713, 0.00057   , 0.00062344,\n",
            "       0.00059494, 0.00061275, 0.00062344, 0.00061988, 0.00060563,\n",
            "       0.0005985 , 0.00057   , 0.00053794, 0.00049163, 0.00044532,\n",
            "       0.00047382, 0.00050231, 0.00050231, 0.00050588, 0.00046313,\n",
            "       0.00046313, 0.00043819, 0.00043106, 0.00041325, 0.00043106,\n",
            "       0.00046313, 0.00041681, 0.00037763, 0.00038831, 0.00036338,\n",
            "       0.00040613, 0.00041681, 0.00044176, 0.00044532, 0.00043463,\n",
            "       0.0004275 , 0.00042394, 0.00041681, 0.00035982, 0.00032775])]\n",
            "[0.00030281361836608363]\n",
            "\n",
            "[array([0.00050588, 0.00046313, 0.00040613, 0.00042394, 0.00044532,\n",
            "       0.00049163, 0.00053081, 0.00056644, 0.00061275, 0.00069825,\n",
            "       0.0007125 , 0.00068757, 0.00065907, 0.00066975, 0.00064838,\n",
            "       0.00060563, 0.00056644, 0.00054863, 0.00059494, 0.00058782,\n",
            "       0.00055576, 0.00055932, 0.00057713, 0.00057   , 0.00062344,\n",
            "       0.00059494, 0.00061275, 0.00062344, 0.00061988, 0.00060563,\n",
            "       0.0005985 , 0.00057   , 0.00053794, 0.00049163, 0.00044532,\n",
            "       0.00047382, 0.00050231, 0.00050231, 0.00050588, 0.00046313,\n",
            "       0.00046313, 0.00043819, 0.00043106, 0.00041325, 0.00043106,\n",
            "       0.00046313, 0.00041681, 0.00037763, 0.00038831, 0.00036338,\n",
            "       0.00040613, 0.00041681, 0.00044176, 0.00044532, 0.00043463,\n",
            "       0.0004275 , 0.00042394, 0.00041681, 0.00035982, 0.00032775]), array([0.00046313, 0.00040613, 0.00042394, 0.00044532, 0.00049163,\n",
            "       0.00053081, 0.00056644, 0.00061275, 0.00069825, 0.0007125 ,\n",
            "       0.00068757, 0.00065907, 0.00066975, 0.00064838, 0.00060563,\n",
            "       0.00056644, 0.00054863, 0.00059494, 0.00058782, 0.00055576,\n",
            "       0.00055932, 0.00057713, 0.00057   , 0.00062344, 0.00059494,\n",
            "       0.00061275, 0.00062344, 0.00061988, 0.00060563, 0.0005985 ,\n",
            "       0.00057   , 0.00053794, 0.00049163, 0.00044532, 0.00047382,\n",
            "       0.00050231, 0.00050231, 0.00050588, 0.00046313, 0.00046313,\n",
            "       0.00043819, 0.00043106, 0.00041325, 0.00043106, 0.00046313,\n",
            "       0.00041681, 0.00037763, 0.00038831, 0.00036338, 0.00040613,\n",
            "       0.00041681, 0.00044176, 0.00044532, 0.00043463, 0.0004275 ,\n",
            "       0.00042394, 0.00041681, 0.00035982, 0.00032775, 0.00030281])]\n",
            "[0.00030281361836608363, 0.0003277496615356477]\n",
            "\n"
          ]
        }
      ]
    },
    {
      "cell_type": "code",
      "metadata": {
        "id": "rNno4iB1duGf"
      },
      "source": [
        "#Convert the x_train and y_train to numpy arrays \n",
        "x_train, y_train = np.array(x_train), np.array(y_train)"
      ],
      "execution_count": null,
      "outputs": []
    },
    {
      "cell_type": "code",
      "metadata": {
        "colab": {
          "base_uri": "https://localhost:8080/"
        },
        "id": "0XHfaCqzdwx7",
        "outputId": "12bbb17d-a47a-4f46-a039-71219d46a0bf"
      },
      "source": [
        "#Reshape the data\n",
        "x_train = np.reshape(x_train, (x_train.shape[0], x_train.shape[1], 1))\n",
        "x_train.shape"
      ],
      "execution_count": null,
      "outputs": [
        {
          "output_type": "execute_result",
          "data": {
            "text/plain": [
              "(8172, 60, 1)"
            ]
          },
          "metadata": {},
          "execution_count": 30
        }
      ]
    },
    {
      "cell_type": "code",
      "metadata": {
        "id": "nl93wDxKdy7D"
      },
      "source": [
        "#Build the LSTM model\n",
        "model = Sequential()\n",
        "model.add(LSTM(50, return_sequences=True, input_shape= (x_train.shape[1], 1)))\n",
        "model.add(LSTM(50, return_sequences= False))\n",
        "model.add(Dense(25))\n",
        "model.add(Dense(1))"
      ],
      "execution_count": null,
      "outputs": []
    },
    {
      "cell_type": "code",
      "metadata": {
        "id": "vjvXscWfd2_8"
      },
      "source": [
        "# we use the optimiser as adam and loss as mean squared error\n",
        "#Compile the model\n",
        "model.compile(optimizer='adam', loss='mean_squared_error')"
      ],
      "execution_count": null,
      "outputs": []
    },
    {
      "cell_type": "code",
      "metadata": {
        "colab": {
          "base_uri": "https://localhost:8080/"
        },
        "id": "OZz8hVxAd5mW",
        "outputId": "221af21a-6748-4030-c160-aef1f23fb2a9"
      },
      "source": [
        "#Train the model\n",
        "model.fit(x_train, y_train, batch_size=1, epochs=1)"
      ],
      "execution_count": null,
      "outputs": [
        {
          "output_type": "stream",
          "name": "stdout",
          "text": [
            "8172/8172 [==============================] - 228s 28ms/step - loss: 2.2327e-05\n"
          ]
        },
        {
          "output_type": "execute_result",
          "data": {
            "text/plain": [
              "<keras.callbacks.History at 0x7f2cbdb7e0d0>"
            ]
          },
          "metadata": {},
          "execution_count": 33
        }
      ]
    },
    {
      "cell_type": "code",
      "metadata": {
        "id": "jjB420iWeBux"
      },
      "source": [
        "#Create the testing data set\n",
        "#Create a new array containing scaled values from index 1543 to 2002 \n",
        "test_data = scaled_data[training_data_len - 60: , :]\n",
        "#Create the data sets x_test and y_test\n",
        "x_test = []\n",
        "y_test = dataset[training_data_len:, :]\n",
        "for i in range(60, len(test_data)):\n",
        "  x_test.append(test_data[i-60:i, 0])"
      ],
      "execution_count": null,
      "outputs": []
    },
    {
      "cell_type": "code",
      "metadata": {
        "id": "Uxk4b3kteEl0"
      },
      "source": [
        "x_test = np.array(x_test)\n"
      ],
      "execution_count": null,
      "outputs": []
    },
    {
      "cell_type": "code",
      "metadata": {
        "id": "3PP6DIi1eHzV"
      },
      "source": [
        "#Reshape the data\n",
        "x_test = np.reshape(x_test, (x_test.shape[0], x_test.shape[1], 1 ))"
      ],
      "execution_count": null,
      "outputs": []
    },
    {
      "cell_type": "code",
      "metadata": {
        "id": "gYLVuKrAeKe-"
      },
      "source": [
        "#Get the models predicted price values \n",
        "predictions = model.predict(x_test)\n",
        "predictions = scaler.inverse_transform(predictions)"
      ],
      "execution_count": null,
      "outputs": []
    },
    {
      "cell_type": "code",
      "metadata": {
        "colab": {
          "base_uri": "https://localhost:8080/"
        },
        "id": "4XHWDJsXeNZI",
        "outputId": "73d01151-3224-4982-c63d-e931e1cb099f"
      },
      "source": [
        "#Get the root mean squared error (RMSE)\n",
        "rmse=np.sqrt(np.mean(((predictions- y_test)**2)))\n",
        "rmse"
      ],
      "execution_count": null,
      "outputs": [
        {
          "output_type": "execute_result",
          "data": {
            "text/plain": [
              "3.3391373246927905"
            ]
          },
          "metadata": {},
          "execution_count": 39
        }
      ]
    },
    {
      "cell_type": "code",
      "metadata": {
        "colab": {
          "base_uri": "https://localhost:8080/",
          "height": 645
        },
        "id": "gtIpVBMyeQNU",
        "outputId": "31f47b30-8e72-4258-d69f-00b0e20dd297"
      },
      "source": [
        "#Plot the data\n",
        "train = data[:training_data_len]\n",
        "valid = data[training_data_len:]\n",
        "valid['Predictions'] = predictions\n",
        "#Visualize the data\n",
        "plt.figure(figsize=(16,8))\n",
        "plt.title('Model')\n",
        "plt.xlabel('Date', fontsize=18)\n",
        "plt.ylabel('Close Price USD ($)', fontsize=18)\n",
        "plt.plot(train['Close'])\n",
        "plt.plot(valid[['Close', 'Predictions']])\n",
        "plt.legend(['Train', 'Val', 'Predictions'], loc='lower right')\n",
        "plt.show()"
      ],
      "execution_count": null,
      "outputs": [
        {
          "output_type": "stream",
          "name": "stderr",
          "text": [
            "/usr/local/lib/python3.7/dist-packages/ipykernel_launcher.py:4: SettingWithCopyWarning: \n",
            "A value is trying to be set on a copy of a slice from a DataFrame.\n",
            "Try using .loc[row_indexer,col_indexer] = value instead\n",
            "\n",
            "See the caveats in the documentation: https://pandas.pydata.org/pandas-docs/stable/user_guide/indexing.html#returning-a-view-versus-a-copy\n",
            "  after removing the cwd from sys.path.\n"
          ]
        },
        {
          "output_type": "display_data",
          "data": {
            "image/png": "[encoded data removed]",
            "text/plain": [
              "<Figure size 1152x576 with 1 Axes>"
            ]
          },
          "metadata": {
            "needs_background": "light"
          }
        }
      ]
    },
    {
      "cell_type": "code",
      "metadata": {
        "colab": {
          "base_uri": "https://localhost:8080/",
          "height": 449
        },
        "id": "EbSrS13fegUk",
        "outputId": "a48f89db-1573-402e-85cf-7391ba449a6b"
      },
      "source": [
        "#Show the valid and predicted prices\n",
        "valid"
      ],
      "execution_count": null,
      "outputs": [
        {
          "output_type": "execute_result",
          "data": {
            "text/html": [
              "<div>\n",
              "<style scoped>\n",
              "    .dataframe tbody tr th:only-of-type {\n",
              "        vertical-align: middle;\n",
              "    }\n",
              "\n",
              "    .dataframe tbody tr th {\n",
              "        vertical-align: top;\n",
              "    }\n",
              "\n",
              "    .dataframe thead th {\n",
              "        text-align: right;\n",
              "    }\n",
              "</style>\n",
              "<table border=\"1\" class=\"dataframe\">\n",
              "  <thead>\n",
              "    <tr style=\"text-align: right;\">\n",
              "      <th></th>\n",
              "      <th>Close</th>\n",
              "      <th>Predictions</th>\n",
              "    </tr>\n",
              "    <tr>\n",
              "      <th>Date</th>\n",
              "      <th></th>\n",
              "      <th></th>\n",
              "    </tr>\n",
              "  </thead>\n",
              "  <tbody>\n",
              "    <tr>\n",
              "      <th>2013-08-02</th>\n",
              "      <td>16.519285</td>\n",
              "      <td>15.412057</td>\n",
              "    </tr>\n",
              "    <tr>\n",
              "      <th>2013-08-05</th>\n",
              "      <td>16.766071</td>\n",
              "      <td>15.543887</td>\n",
              "    </tr>\n",
              "    <tr>\n",
              "      <th>2013-08-06</th>\n",
              "      <td>16.616072</td>\n",
              "      <td>15.706397</td>\n",
              "    </tr>\n",
              "    <tr>\n",
              "      <th>2013-08-07</th>\n",
              "      <td>16.606428</td>\n",
              "      <td>15.803506</td>\n",
              "    </tr>\n",
              "    <tr>\n",
              "      <th>2013-08-08</th>\n",
              "      <td>16.464643</td>\n",
              "      <td>15.855611</td>\n",
              "    </tr>\n",
              "    <tr>\n",
              "      <th>...</th>\n",
              "      <td>...</td>\n",
              "      <td>...</td>\n",
              "    </tr>\n",
              "    <tr>\n",
              "      <th>2021-09-27</th>\n",
              "      <td>145.369995</td>\n",
              "      <td>137.298325</td>\n",
              "    </tr>\n",
              "    <tr>\n",
              "      <th>2021-09-28</th>\n",
              "      <td>141.910004</td>\n",
              "      <td>137.261261</td>\n",
              "    </tr>\n",
              "    <tr>\n",
              "      <th>2021-09-29</th>\n",
              "      <td>142.830002</td>\n",
              "      <td>136.353302</td>\n",
              "    </tr>\n",
              "    <tr>\n",
              "      <th>2021-09-30</th>\n",
              "      <td>141.500000</td>\n",
              "      <td>135.688156</td>\n",
              "    </tr>\n",
              "    <tr>\n",
              "      <th>2021-10-01</th>\n",
              "      <td>142.649994</td>\n",
              "      <td>134.925018</td>\n",
              "    </tr>\n",
              "  </tbody>\n",
              "</table>\n",
              "<p>2057 rows × 2 columns</p>\n",
              "</div>"
            ],
            "text/plain": [
              "                 Close  Predictions\n",
              "Date                               \n",
              "2013-08-02   16.519285    15.412057\n",
              "2013-08-05   16.766071    15.543887\n",
              "2013-08-06   16.616072    15.706397\n",
              "2013-08-07   16.606428    15.803506\n",
              "2013-08-08   16.464643    15.855611\n",
              "...                ...          ...\n",
              "2021-09-27  145.369995   137.298325\n",
              "2021-09-28  141.910004   137.261261\n",
              "2021-09-29  142.830002   136.353302\n",
              "2021-09-30  141.500000   135.688156\n",
              "2021-10-01  142.649994   134.925018\n",
              "\n",
              "[2057 rows x 2 columns]"
            ]
          },
          "metadata": {},
          "execution_count": 41
        }
      ]
    },
    {
      "cell_type": "code",
      "metadata": {
        "colab": {
          "base_uri": "https://localhost:8080/"
        },
        "id": "l5gLqEIaen3Q",
        "outputId": "6744abce-2cf9-45ce-b783-22305f5da2c8"
      },
      "source": [
        "#Get the quote\n",
        "apple_quote = web.DataReader('AAPL', data_source='yahoo', start='2012-01-01', end='2019-12-17')\n",
        "#Create a new dataframe\n",
        "new_df = apple_quote.filter(['Close'])\n",
        "#Get teh last 60 day closing price values and convert the dataframe to an array\n",
        "last_60_days = new_df[-60:].values\n",
        "#Scale the data to be values between 0 and 1\n",
        "last_60_days_scaled = scaler.transform(last_60_days)\n",
        "#Create an empty list\n",
        "X_test = []\n",
        "#Append teh past 60 days\n",
        "X_test.append(last_60_days_scaled)\n",
        "#Convert the X_test data set to a numpy array\n",
        "X_test = np.array(X_test)\n",
        "#Reshape the data\n",
        "X_test = np.reshape(X_test, (X_test.shape[0], X_test.shape[1], 1))\n",
        "#Get the predicted scaled price\n",
        "pred_price = model.predict(X_test)\n",
        "#undo the scaling \n",
        "pred_price = scaler.inverse_transform(pred_price)\n",
        "print(pred_price)"
      ],
      "execution_count": null,
      "outputs": [
        {
          "output_type": "stream",
          "name": "stdout",
          "text": [
            "[[67.1833]]\n"
          ]
        }
      ]
    },
    {
      "cell_type": "code",
      "metadata": {
        "colab": {
          "base_uri": "https://localhost:8080/"
        },
        "id": "-nWmt-FQerco",
        "outputId": "72f7295c-8ceb-45d0-f5e0-ae72c05b0b9e"
      },
      "source": [
        "#Get the quote\n",
        "apple_quote2 = web.DataReader('AAPL', data_source='yahoo', start='2019-12-18', end='2019-12-18')\n",
        "print(apple_quote2['Close'])"
      ],
      "execution_count": null,
      "outputs": [
        {
          "output_type": "stream",
          "name": "stdout",
          "text": [
            "Date\n",
            "2019-12-18    69.934998\n",
            "Name: Close, dtype: float64\n"
          ]
        }
      ]
    }
  ]
}